{
  "nbformat": 4,
  "nbformat_minor": 0,
  "metadata": {
    "colab": {
      "name": "DEA dataset.ipynb",
      "provenance": [],
      "collapsed_sections": []
    },
    "kernelspec": {
      "name": "python3",
      "display_name": "Python 3"
    },
    "language_info": {
      "name": "python"
    }
  },
  "cells": [
    {
      "cell_type": "markdown",
      "metadata": {
        "id": "rqnMpH5tXdM5"
      },
      "source": [
        "## Background\n",
        "\n",
        " The Data Envelopment Analysis (DEA) is a nonparametric problem in operations research and economics whose solution is an estimation of production frontiers. It is used to empirically measure the productive efficiency of decision making units (DMUs). There are a number of linear programming formulations of the DEA problem. Fuller coverage of the subject can be found in Farrell (1957), Charnes et al. (1978) and Thanassoulis et al. (1987). The formulation given by H.P. Williams is described in Land (1991). This formulation is the dual model of a model  commonly used that relies on finding weighted ratios of outputs to inputs. We will use the formulation that is commonly used and can be found in Cooper et al. (2007).\n",
        "\n",
        "The Data Envelopment Analysis has been used to evaluate the performance of many different kinds of entities engaged in many different activities, and in many different contexts in many different countries. Examples include the maintenance activities of U.S. Air Force bases in different geographic locations, or police forces in England and Wales as well as the performance of branch banks in Cyprus and Canada and the efficiency of universities in performing their education and research functions in the U.S., England and France. \n",
        "\n",
        "The DEA approach is concerned with evaluations of *efficiency*. The most common measure of efficiency takes the form of a ratio like the following one:\n",
        "\n",
        "$$\n",
        "\\text{efficiency} = \\frac{\\text{output}}{\\text{input}}\n",
        "$$\n",
        "\n"
      ]
    },
    {
      "cell_type": "markdown",
      "metadata": {
        "id": "e37ps7b0XdM7"
      },
      "source": [
        "## Model Formulation\n",
        "\n",
        "Assume there is a set of DMUs. Some common input and output items for each of these DMUs are selected as follows:\n",
        "1. Numerical data are available for each input and output, with the data assumed to be positive, for all DMUs.\n",
        "2. The items (inputs, outputs and choice of DMUs) should reflect an analyst's or a manager's interest in the components that will enter into the relative efficiency evaluations of the DMUs.\n",
        "3. In principle, smaller input amounts are preferable and larger output amounts are preferable so the efficiency scores should reflect these principles.\n",
        "4. The measurement units of the different inputs and outputs do not need to be congruent. Some may involve a number of persons, or areas of floor space, money expended, etc.\n",
        "\n",
        "### Fractional problem formulation\n",
        "The proposed measure of the efficiency of a target DMU $k$ is obtained as the maximum of a ratio of weighted outputs to weighted inputs subject to the condition that the similar ratios for every DMU be less than or equal to one.\n",
        "\n",
        "### Sets and indices\n",
        "\n",
        "$j,k \\in \\text{DMUS}$: Indices and set of DMUs, where $k$ represents the target DMU.\n",
        "\n",
        "$i \\in \\text{Inputs}$: Index and set of inputs.\n",
        "\n",
        "$r \\in \\text{Outputs}$: Index and set of outputs.\n",
        "\n",
        "### Parameters\n",
        "\n",
        "$\\text{invalue}_{i,j} > 0$: Value of input $i$ for DMU $j$.\n",
        "\n",
        "$\\text{outvalue}_{r,j} > 0$: Value of output $r$ for DMU $j$.\n",
        "\n",
        "### Decision Variables\n",
        "\n",
        "$u_{r} \\geq 0$: Weight of output $r$.\n",
        "\n",
        "$v_{i} \\geq 0$: Weight of input  $i$.\n",
        "\n",
        "### Objective function\n",
        "\n",
        "**Target DMU Efficiency**: Maximize efficiency at the target DMU $k$.\n",
        "\n",
        "$$\n",
        "\\text{Maximize} \\quad E_k = \n",
        "\\frac{\\sum_{r \\in \\text{Outputs}} \\text{outvalue}_{r,k}*u_{r}}{\\sum_{i \\in \\text{Inputs}} \\text{invalue}_{i,k}*v_{i}}\n",
        "\\tag{FP0}\n",
        "$$\n",
        "\n",
        "\n",
        "### Constraints\n",
        "\n",
        "**Efficiency ratios**: The efficiency of a DMU is a number between $[0,1]$.\n",
        "\n",
        "\\begin{equation}\n",
        "\\frac{\\sum_{r \\in \\text{Outputs}} \\text{outvalue}_{r,j}*u_{r}}{\\sum_{i \\in \\text{Inputs}} \\text{invalue}_{i,j}*v_{i}}\n",
        " \\leq 1 \\quad \\forall j \\in \\text{DMUS}\n",
        " \\tag{FP1}\n",
        "\\end{equation}\n",
        "\n"
      ]
    },
    {
      "cell_type": "markdown",
      "metadata": {
        "id": "KTkohuLYXdM9"
      },
      "source": [
        "### Linear programming problem formulation\n",
        "\n",
        "This linear programming formulation can be found in the book by Cooper et al. (2007).\n",
        "\n",
        "### Objective function\n",
        "\n",
        "**Target DMU Efficiency**: Maximize efficiency at the target DMU $k$.\n",
        "\n",
        "$$\n",
        "\\text{Maximize} \\quad E_k = \\sum_{r \\in \\text{Outputs}} \\text{outvalue}_{r,k}*u_{r}\n",
        "\\tag{LP0}\n",
        "$$\n",
        "\n",
        "\n",
        "### Constraints\n",
        "\n",
        "**Efficiency ratio**: The efficiency of a DMU is a number between $[0,1]$.\n",
        "\n",
        "\\begin{equation}\n",
        "\\sum_{r \\in \\text{Outputs}} \\text{outvalue}_{r,j}*u_{r} -\n",
        "\\sum_{i \\in \\text{Inputs}} \\text{invalue}_{i,k}*v_{i}\n",
        " \\leq 0  \\quad \\forall j \\in \\text{DMUS}\n",
        "\\tag{LP1}\n",
        "\\end{equation}\n",
        "\n",
        "**Normalization**: This constraint ensures that the denominator of the objective function of the fractional problem is equal to one.\n",
        "\n",
        "\\begin{equation}\n",
        "\\sum_{i \\in \\text{Inputs}} \\text{invalue}_{i,k}*v_{i} = 1 \n",
        "\\tag{LP2}\n",
        "\\end{equation}\n",
        "\n",
        "It is easy to verify that the fractional problem and the linear programming problem are equivalent. Let's assume that the denominator of the efficiency ratio constraints of the fractional problem is positive for all DMUs, then we can obtain the constraints $LP1$ by multiplying both sides of the constraints $FP1$ by the denominator. Next, we set the denominator of $FP0$ eqaul to 1 and define constraint $LP2$, and then maximize the numerator, resulting in the objective function $LP0$.\n",
        "\n",
        "### Definition of efficiency\n",
        "\n",
        "1. $DMU_k$ is efficient if the optimal objective function value $E_{k}^{*} = 1$.\n",
        "2. Otherwise, $DMU_k$ is inefficient."
      ]
    },
    {
      "cell_type": "markdown",
      "source": [
        "## **Problem description**\n",
        "\n",
        "Rank the IIMs accordingly when the inputs given are number of faculty members , number of students and the financial resources given to the organization to aid the students and faculty.\n",
        "\n",
        "The outputs are the median salary of the graduated students in the nest time frame and the total annual earnings of executive development programs which are designed to increase the business skills and leadership capabilities of managers who aspire to be among top leadership in their organizations and the amount of money tranferred as sponsered projects to respective organizations from sponsers."
      ],
      "metadata": {
        "id": "rMSBnSLzamig"
      }
    },
    {
      "cell_type": "markdown",
      "source": [
        "![image.png](data:image/png;base64,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)"
      ],
      "metadata": {
        "id": "6DcNolR8cJn5"
      }
    },
    {
      "cell_type": "markdown",
      "source": [
        "The goal is to identify efficient and inefficient organizations and their input-output weights. In order to solve this problem, it is necessary to solve the LP model for each organization."
      ],
      "metadata": {
        "id": "40HCLpFNcm04"
      }
    },
    {
      "cell_type": "markdown",
      "metadata": {
        "id": "iRe9mpwJXdM_"
      },
      "source": [
        "---\n",
        "## Python Implementation\n",
        "\n",
        "We import the Gurobi Python Module and other Python libraries.\n",
        "\n",
        "### Helper Functions\n",
        "\n",
        "* `solve_DEA` builds and solves the LP model."
      ]
    },
    {
      "cell_type": "code",
      "execution_count": 26,
      "metadata": {
        "id": "JjR4aPkkXdM_",
        "colab": {
          "base_uri": "https://localhost:8080/"
        },
        "outputId": "8f710b5f-0a3b-460d-8520-924b42e3ff60"
      },
      "outputs": [
        {
          "output_type": "stream",
          "name": "stdout",
          "text": [
            "Looking in indexes: https://pypi.org/simple, https://us-python.pkg.dev/colab-wheels/public/simple/\n",
            "Requirement already satisfied: gurobipy in /usr/local/lib/python3.7/dist-packages (9.5.2)\n"
          ]
        }
      ],
      "source": [
        "%pip install gurobipy"
      ]
    },
    {
      "cell_type": "code",
      "execution_count": 27,
      "metadata": {
        "id": "C99cNDRpXdNB"
      },
      "outputs": [],
      "source": [
        "import pandas as pd\n",
        "from itertools import product\n",
        "\n",
        "import gurobipy as gp\n",
        "from gurobipy import GRB\n",
        "\n",
        "# tested with Python 3.7.0 & Gurobi 9.1.0"
      ]
    },
    {
      "cell_type": "code",
      "execution_count": 29,
      "metadata": {
        "id": "juUOiv6XXdNC"
      },
      "outputs": [],
      "source": [
        "def solve_DEA(target, verbose=True):\n",
        "    # input-output values for the iims\n",
        "    inattr = ['number of students', 'number of faculty members', 'Financial Resources (in Rs)']\n",
        "    outattr = ['median salary(in Rs)', 'Project Details/annual earnings from executive development programs(in Rs)']\n",
        "    \n",
        "    dmus, inputs, outputs = gp.multidict({\n",
        "        'IIM Ahmedabad': [{'number of students': 986, 'number of faculty members': 128, 'Financial Resources (in Rs)':2359162165 }, {'median salary(in Rs)': 2148548, 'Project Details/annual earnings from executive development programs(in Rs)': 713896482}],\n",
        "        'IIM Bangalore': [{'number of students': 946, 'number of faculty members': 113, 'Financial Resources (in Rs)': 885926011}, {'median salary(in Rs)': 2000000, 'Project Details/annual earnings from executive development programs(in Rs)': 246831367}],\n",
        "        'IIM Calcutta': [{'number of students': 1096, 'number of faculty members': 95, 'Financial Resources (in Rs)': 1733460113}, {'median salary(in Rs)':2000000 , 'Project Details/annual earnings from executive development programs(in Rs)': 368629720}],\n",
        "        'IIM Lucknow': [{'number of students': 953, 'number of faculty members': 87, 'Financial Resources (in Rs)':1173997552}, {'median salary(in Rs)':1780000 , 'Project Details/annual earnings from executive development programs(in Rs)': 116429720}],\n",
        "        'IIM Kozhikode': [{'number of students': 794, 'number of faculty members': 75, 'Financial Resources (in Rs)':387085247 }, {'median salary(in Rs)': 1765000, 'Project Details/annual earnings from executive development programs(in Rs)': 211295411}],\n",
        "        'IIM Indore': [{'number of students': 1683, 'number of faculty members': 100, 'Financial Resources (in Rs)':698010577 }, {'median salary(in Rs)':1550000 , 'Project Details/annual earnings from executive development programs(in Rs)': 351082685}]\n",
        "        \n",
        "    })\n",
        "    \n",
        "    ### Create LP model\n",
        "    model = gp.Model('DEA')\n",
        "    \n",
        "    # Decision variables\n",
        "    wout = model.addVars(outattr, name=\"outputWeight\")\n",
        "    win =  model.addVars(inattr, name=\"inputWeight\")\n",
        "\n",
        "   \n",
        "\n",
        "# Constraints\n",
        "    ratios = model.addConstrs( ( gp.quicksum(outputs[h][r]*wout[r] for r in outattr ) \n",
        "                            - gp.quicksum(inputs[h][i]*win[i] for i in inattr ) \n",
        "                            <= 0 for h in dmus ), name='ratios' )\n",
        "\n",
        "    normalization = model.addConstr((gp.quicksum(inputs[target][i]*win[i] for i in inattr ) == 1 ),\n",
        "                                name='normalization')\n",
        "\n",
        "# Objective function\n",
        "\n",
        "    model.setObjective( gp.quicksum(outputs[target][r]*wout[r] for r in outattr ), GRB.MAXIMIZE)\n",
        "    \n",
        "    # Run optimization engine\n",
        "    if not verbose:\n",
        "        model.params.OutputFlag = 0\n",
        "    model.optimize()\n",
        "    \n",
        "    # Print results\n",
        "    print(f\"\\nThe efficiency of target DMU {target} is {round(model.objVal,3)}\") \n",
        "    \n",
        "    print(\"__________________________________________________________________\")\n",
        "    print(f\"The weights for the inputs are:\")\n",
        "    for i in inattr:\n",
        "        print(f\"For {i}: {round(win[i].x,3)} \") \n",
        "        \n",
        "    print(\"__________________________________________________________________\")\n",
        "    print(f\"The weights for the outputs are\")\n",
        "    for r in outattr:\n",
        "        print(f\"For {r} is: {round(wout[r].x,3)} \") \n",
        "    print(\"__________________________________________________________________\\n\\n\")  \n",
        "    \n",
        "    return model.objVal"
      ]
    },
    {
      "cell_type": "markdown",
      "metadata": {
        "id": "iSWTfUMGXdND"
      },
      "source": [
        "## Input Data\n",
        "We define the list of organizations(IIMs)."
      ]
    },
    {
      "cell_type": "code",
      "execution_count": 30,
      "metadata": {
        "id": "HF_Whgd1XdNE"
      },
      "outputs": [],
      "source": [
        "dmus = ['IIM Ahmedabad','IIM Bangalore','IIM Calcutta', 'IIM Lucknow', 'IIM Kozhikode','IIM Indore']"
      ]
    },
    {
      "cell_type": "markdown",
      "metadata": {
        "id": "JxrMEMH6XdNE"
      },
      "source": [
        "---\n",
        "## Output Report\n",
        "\n",
        "We print out the efficiency score of each garage and its associated input and output weights."
      ]
    },
    {
      "cell_type": "code",
      "execution_count": 31,
      "metadata": {
        "id": "7tJhKH3SXdNF",
        "outputId": "e128449a-8dc4-43b2-e4f1-909e6051c618",
        "colab": {
          "base_uri": "https://localhost:8080/"
        }
      },
      "outputs": [
        {
          "output_type": "stream",
          "name": "stdout",
          "text": [
            "\n",
            "The efficiency of target DMU IIM Ahmedabad is 1.0\n",
            "__________________________________________________________________\n",
            "The weights for the inputs are:\n",
            "For number of students: 0.001 \n",
            "For number of faculty members: 0.0 \n",
            "For Financial Resources (in Rs): 0.0 \n",
            "__________________________________________________________________\n",
            "The weights for the outputs are\n",
            "For median salary(in Rs) is: 0.0 \n",
            "For Project Details/annual earnings from executive development programs(in Rs) is: 0.0 \n",
            "__________________________________________________________________\n",
            "\n",
            "\n",
            "\n",
            "The efficiency of target DMU IIM Bangalore is 0.951\n",
            "__________________________________________________________________\n",
            "The weights for the inputs are:\n",
            "For number of students: 0.001 \n",
            "For number of faculty members: 0.0 \n",
            "For Financial Resources (in Rs): 0.0 \n",
            "__________________________________________________________________\n",
            "The weights for the outputs are\n",
            "For median salary(in Rs) is: 0.0 \n",
            "For Project Details/annual earnings from executive development programs(in Rs) is: 0.0 \n",
            "__________________________________________________________________\n",
            "\n",
            "\n",
            "\n",
            "The efficiency of target DMU IIM Calcutta is 1.377\n",
            "__________________________________________________________________\n",
            "The weights for the inputs are:\n",
            "For number of students: 0.0 \n",
            "For number of faculty members: 0.011 \n",
            "For Financial Resources (in Rs): 0.0 \n",
            "__________________________________________________________________\n",
            "The weights for the outputs are\n",
            "For median salary(in Rs) is: 0.0 \n",
            "For Project Details/annual earnings from executive development programs(in Rs) is: 0.0 \n",
            "__________________________________________________________________\n",
            "\n",
            "\n",
            "\n",
            "The efficiency of target DMU IIM Lucknow is 0.869\n",
            "__________________________________________________________________\n",
            "The weights for the inputs are:\n",
            "For number of students: 0.0 \n",
            "For number of faculty members: 0.011 \n",
            "For Financial Resources (in Rs): 0.0 \n",
            "__________________________________________________________________\n",
            "The weights for the outputs are\n",
            "For median salary(in Rs) is: 0.0 \n",
            "For Project Details/annual earnings from executive development programs(in Rs) is: 0.0 \n",
            "__________________________________________________________________\n",
            "\n",
            "\n",
            "\n",
            "The efficiency of target DMU IIM Kozhikode is 1.0\n",
            "__________________________________________________________________\n",
            "The weights for the inputs are:\n",
            "For number of students: 0.001 \n",
            "For number of faculty members: 0.0 \n",
            "For Financial Resources (in Rs): 0.0 \n",
            "__________________________________________________________________\n",
            "The weights for the outputs are\n",
            "For median salary(in Rs) is: 0.0 \n",
            "For Project Details/annual earnings from executive development programs(in Rs) is: 0.0 \n",
            "__________________________________________________________________\n",
            "\n",
            "\n",
            "\n",
            "The efficiency of target DMU IIM Indore is 1.246\n",
            "__________________________________________________________________\n",
            "The weights for the inputs are:\n",
            "For number of students: 0.0 \n",
            "For number of faculty members: 0.01 \n",
            "For Financial Resources (in Rs): 0.0 \n",
            "__________________________________________________________________\n",
            "The weights for the outputs are\n",
            "For median salary(in Rs) is: 0.0 \n",
            "For Project Details/annual earnings from executive development programs(in Rs) is: 0.0 \n",
            "__________________________________________________________________\n",
            "\n",
            "\n"
          ]
        }
      ],
      "source": [
        "# Solving DEA model for each DMU\n",
        "\n",
        "performance = {}\n",
        "for h in dmus:    \n",
        "    performance[h] = solve_DEA(h, verbose=False)\n"
      ]
    },
    {
      "cell_type": "markdown",
      "metadata": {
        "id": "6uj30YuSXdNG"
      },
      "source": [
        "---\n",
        "## Analysis\n",
        "\n",
        "We identify which organizations are efficient and which ones are inefficient, and provide the efficiency scores for each organizations\n",
        "."
      ]
    },
    {
      "cell_type": "code",
      "execution_count": 32,
      "metadata": {
        "id": "4YF3iuwwXdNH",
        "outputId": "9c194e61-1fab-4152-8c62-8d0c58ed6172",
        "colab": {
          "base_uri": "https://localhost:8080/"
        }
      },
      "outputs": [
        {
          "output_type": "stream",
          "name": "stdout",
          "text": [
            "____________________________________________\n",
            "The efficient DMUs are:\n",
            "The performance value of DMU IIM Calcutta is: 1.377\n",
            "The performance value of DMU IIM Indore is: 1.246\n",
            "The performance value of DMU IIM Ahmedabad is: 1.0\n",
            "The performance value of DMU IIM Kozhikode is: 1.0\n",
            "____________________________________________\n",
            "The inefficient DMUs are:\n",
            "The performance value of DMU IIM Bangalore is: 0.951\n",
            "The performance value of DMU IIM Lucknow is: 0.869\n"
          ]
        }
      ],
      "source": [
        "# Identifying efficient and inefficient DMUs\n",
        "\n",
        "# Sorting garages in descending efficiency number\n",
        "sorted_performance = {k: v for k, v in sorted(performance.items(), key=lambda item: item[1], reverse = True)}\n",
        "\n",
        "efficient = []\n",
        "inefficient = []\n",
        "\n",
        "for h in sorted_performance.keys():\n",
        "    if sorted_performance[h] >= 0.9999999:\n",
        "        efficient.append(h) \n",
        "    if sorted_performance[h] < 0.9999999:\n",
        "        inefficient.append(h) \n",
        "        \n",
        "print('____________________________________________')\n",
        "print(f\"The efficient DMUs are:\")\n",
        "for eff in efficient:\n",
        "    print(f\"The performance value of DMU {eff} is: {round(performance[eff],3)}\") \n",
        "    \n",
        "print('____________________________________________')\n",
        "print(f\"The inefficient DMUs are:\")\n",
        "for ine in inefficient:\n",
        "    print(f\"The performance value of DMU {ine} is: {round(performance[ine],3)}\") \n"
      ]
    }
  ]
}